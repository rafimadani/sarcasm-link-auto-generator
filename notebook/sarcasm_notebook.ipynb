{
  "cells": [
    {
      "cell_type": "code",
      "execution_count": 1,
      "metadata": {
        "colab": {
          "base_uri": "https://localhost:8080/"
        },
        "id": "D1uUes03c4cp",
        "outputId": "a0235838-b8f8-46d3-e903-0aadded0a3cb"
      },
      "outputs": [
        {
          "name": "stdout",
          "output_type": "stream",
          "text": [
            "number of words in word_index: 25637\n",
            "Epoch 1/30\n",
            "625/625 - 4s - loss: 0.6750 - accuracy: 0.5688 - val_loss: 0.6271 - val_accuracy: 0.6263 - 4s/epoch - 6ms/step\n",
            "Epoch 2/30\n",
            "625/625 - 2s - loss: 0.5021 - accuracy: 0.7676 - val_loss: 0.4523 - val_accuracy: 0.7842 - 2s/epoch - 4ms/step\n",
            "Epoch 3/30\n",
            "\n",
            "Reached 80% validation accuracy, stopping training!\n",
            "625/625 - 3s - loss: 0.4061 - accuracy: 0.8162 - val_loss: 0.4150 - val_accuracy: 0.8074 - 3s/epoch - 5ms/step\n"
          ]
        },
        {
          "name": "stderr",
          "output_type": "stream",
          "text": [
            "/usr/local/lib/python3.10/dist-packages/keras/src/engine/training.py:3103: UserWarning: You are saving your model as an HDF5 file via `model.save()`. This file format is considered legacy. We recommend using instead the native Keras format, e.g. `model.save('my_model.keras')`.\n",
            "  saving_api.save_model(\n"
          ]
        }
      ],
      "source": [
        "import json\n",
        "import tensorflow as tf\n",
        "import numpy as np\n",
        "import urllib\n",
        "from tensorflow.keras.preprocessing.text import Tokenizer\n",
        "from tensorflow.keras.preprocessing.sequence import pad_sequences\n",
        "import ssl\n",
        "ssl._create_default_https_context = ssl._create_unverified_context\n",
        "from tensorflow.keras.callbacks import Callback\n",
        "\n",
        "class MyCallback(Callback):\n",
        "    def on_epoch_end(self, epoch, logs=None):\n",
        "        if logs.get('val_accuracy') > 0.80 and logs.get('accuracy') > 0.80:\n",
        "            print(\"\\nReached 80% validation accuracy, stopping training!\")\n",
        "            self.model.stop_training = True\n",
        "\n",
        "def solution():\n",
        "    data_url = 'https://github.com/dicodingacademy/assets/raw/main/Simulation/machine_learning/sarcasm.json'\n",
        "    urllib.request.urlretrieve(data_url, 'sarcasm.json')\n",
        "\n",
        "    vocab_size = 1000\n",
        "    embedding_dim = 16\n",
        "    max_length = 120\n",
        "    trunc_type = 'post'\n",
        "    padding_type = 'post'\n",
        "    oov_tok = \"<OOV>\"\n",
        "    training_size = 20000\n",
        "\n",
        "    sentences = []\n",
        "    labels = []\n",
        "    with open(\"./sarcasm.json\", 'r') as f:\n",
        "        sarcasm = json.load(f)\n",
        "    for item in sarcasm:\n",
        "        sentences.append(item['headline'])\n",
        "        labels.append(item['is_sarcastic'])\n",
        "\n",
        "    training_sentences = sentences[0:training_size]\n",
        "    testing_sentences = sentences[training_size:]\n",
        "\n",
        "    training_labels = labels[0:training_size]\n",
        "    testing_labels = labels[training_size:]\n",
        "\n",
        "    tokenizer = Tokenizer(num_words=vocab_size, oov_token=oov_tok)\n",
        "    tokenizer.fit_on_texts(training_sentences)\n",
        "    word_index = tokenizer.word_index\n",
        "    print(f'number of words in word_index: {len(word_index)}')\n",
        "\n",
        "    training_sequences = tokenizer.texts_to_sequences(training_sentences)\n",
        "    training_padded = pad_sequences(training_sequences, maxlen=max_length, padding=padding_type, truncating=trunc_type)\n",
        "\n",
        "    testing_sequences = tokenizer.texts_to_sequences(testing_sentences)\n",
        "    testing_padded = pad_sequences(testing_sequences, maxlen=max_length, padding=padding_type, truncating=trunc_type)\n",
        "\n",
        "    training_labels = np.array(training_labels)\n",
        "    testing_labels = np.array(testing_labels)\n",
        "\n",
        "    callbacks = MyCallback()\n",
        "\n",
        "    model = tf.keras.Sequential([\n",
        "        tf.keras.layers.Embedding(vocab_size, embedding_dim, input_length=max_length),\n",
        "        tf.keras.layers.GlobalAveragePooling1D(),\n",
        "        tf.keras.layers.Dense(24, activation='relu'),\n",
        "        tf.keras.layers.Dense(1, activation='sigmoid')\n",
        "    ])\n",
        "    model.compile(loss='binary_crossentropy', optimizer='adam', metrics=['accuracy'])\n",
        "    model.fit(training_padded, training_labels, epochs=30, validation_data=(testing_padded, testing_labels),\n",
        "              verbose=2, callbacks=callbacks)\n",
        "    return model, tokenizer, max_length, padding_type, trunc_type\n",
        "\n",
        "model, tokenizer, max_length, padding_type, trunc_type = solution()\n",
        "\n",
        "# Save the model and tokenizer after training\n",
        "model.save('sarcasm_model.h5')\n",
        "\n",
        "# Save the tokenizer\n",
        "import pickle\n",
        "with open('tokenizer.pickle', 'wb') as handle:\n",
        "    pickle.dump(tokenizer, handle, protocol=pickle.HIGHEST_PROTOCOL)\n",
        "\n",
        "# Save the other parameters\n",
        "import json\n",
        "params = {\n",
        "    'max_length': max_length,\n",
        "    'padding_type': padding_type,\n",
        "    'trunc_type': trunc_type\n",
        "}\n",
        "with open('params.json', 'w') as json_file:\n",
        "    json.dump(params, json_file)\n"
      ]
    },
    {
      "cell_type": "code",
      "execution_count": 4,
      "metadata": {
        "colab": {
          "base_uri": "https://localhost:8080/"
        },
        "id": "03PIpJfgk4_o",
        "outputId": "072a9ef9-22d7-409f-9373-6861dfeada9f"
      },
      "outputs": [
        {
          "name": "stdout",
          "output_type": "stream",
          "text": [
            "star wars fans upset the acolyte full of woke stuff instead of siblings kissing\n",
            "star wars fans upset the acolyte full of woke stuff instead of siblings kissing\n"
          ]
        }
      ],
      "source": [
        "import re\n",
        "\n",
        "def get_title(url):\n",
        "    match = re.search(r'\\/([^\\/]+)\\/?$', url)\n",
        "    if match:\n",
        "        title_with_dashes = match.group(1)\n",
        "        title_with_spaces = title_with_dashes.replace(\"-\", \" \")\n",
        "        return title_with_spaces\n",
        "    else:\n",
        "        return None\n",
        "\n",
        "# Test cases\n",
        "url1 = \"https://babylonbee.com/news/star-wars-fans-upset-the-acolyte-full-of-woke-stuff-instead-of-siblings-kissing\"\n",
        "url2 = \"https://babylonbee.com/news/star-wars-fans-upset-the-acolyte-full-of-woke-stuff-instead-of-siblings-kissing/\"\n",
        "\n",
        "print(get_title(url1))  # Output: star wars fans upset the acolyte full of woke stuff instead of siblings kissing\n",
        "print(get_title(url2))  # Output: star wars fans upset the acolyte full of woke stuff instead of siblings kissing\n"
      ]
    }
  ],
  "metadata": {
    "colab": {
      "provenance": []
    },
    "kernelspec": {
      "display_name": "Python 3",
      "name": "python3"
    },
    "language_info": {
      "name": "python"
    }
  },
  "nbformat": 4,
  "nbformat_minor": 0
}
